{
  "nbformat": 4,
  "nbformat_minor": 0,
  "metadata": {
    "colab": {
      "name": "Ronny Fahrudin.ipynb",
      "provenance": []
    },
    "kernelspec": {
      "name": "python3",
      "display_name": "Python 3"
    }
  },
  "cells": [
    {
      "cell_type": "markdown",
      "metadata": {
        "id": "_O4FIgFhL6r7",
        "colab_type": "text"
      },
      "source": [
        "# Mempersiapkan Package yang dipakai"
      ]
    },
    {
      "cell_type": "code",
      "metadata": {
        "id": "3tiw-s0splZD",
        "colab_type": "code",
        "colab": {}
      },
      "source": [
        "%matplotlib inline\n",
        "import pandas as pd\n",
        "import os,shutil,math,scipy,cv2\n",
        "import numpy as np\n",
        "import matplotlib.pyplot as plt\n",
        "import random as rn\n",
        "\n",
        "\n",
        "from keras import backend as K\n",
        "from keras.utils.np_utils import to_categorical\n",
        "from keras import layers\n",
        "from keras.preprocessing.image import save_img\n",
        "from keras.utils.vis_utils import model_to_dot\n",
        "from keras.applications.vgg16 import VGG16,preprocess_input\n",
        "from keras.applications.mobilenet import MobileNet\n",
        "from keras.models import Sequential,Input,Model\n",
        "from keras.layers import Dense,Flatten,Dropout,Concatenate,GlobalAveragePooling2D,Lambda,ZeroPadding2D\n",
        "from keras.layers import SeparableConv2D,BatchNormalization,MaxPooling2D,Conv2D\n",
        "from keras.preprocessing.image import ImageDataGenerator\n",
        "from keras.optimizers import SGD\n",
        "from keras.utils.vis_utils import plot_model\n",
        "from keras.callbacks import ModelCheckpoint,EarlyStopping,TensorBoard,CSVLogger,ReduceLROnPlateau,LearningRateScheduler\n",
        "\n",
        "from sklearn.utils import shuffle\n",
        "from sklearn.metrics import classification_report\n",
        "from sklearn.model_selection import train_test_split\n",
        "from sklearn.preprocessing import LabelEncoder\n",
        "from sklearn.metrics import confusion_matrix,roc_curve,auc\n",
        "\n",
        "from PIL import Image\n",
        "from PIL import Image as pil_image\n",
        "from PIL import ImageDraw\n",
        "\n",
        "from time import time\n",
        "from glob import glob\n",
        "from tqdm import tqdm\n",
        "from skimage.io import imread\n",
        "from IPython.display import SVG\n",
        "\n",
        "from scipy import misc,ndimage\n",
        "from scipy.ndimage.interpolation import zoom\n",
        "from matplotlib.pyplot import imread\n",
        "import zipfile,os"
      ],
      "execution_count": 0,
      "outputs": []
    },
    {
      "cell_type": "markdown",
      "metadata": {
        "id": "lAI7X9THMBo8",
        "colab_type": "text"
      },
      "source": [
        "# Mengunduh berkas datsets"
      ]
    },
    {
      "cell_type": "code",
      "metadata": {
        "id": "5Ym8t5Sqpvzo",
        "colab_type": "code",
        "outputId": "b1eaa226-dff7-4335-eb5a-4e3a76d482e3",
        "colab": {
          "base_uri": "https://localhost:8080/",
          "height": 221
        }
      },
      "source": [
        "!wget --no-check-certificate \\\n",
        "  https://dicodingacademy.blob.core.windows.net/picodiploma/ml_pemula_academy/rockpaperscissors.zip \\\n",
        "  -O /tmp/rockpaperscissors.zip"
      ],
      "execution_count": 39,
      "outputs": [
        {
          "output_type": "stream",
          "text": [
            "--2020-05-31 20:50:40--  https://dicodingacademy.blob.core.windows.net/picodiploma/ml_pemula_academy/rockpaperscissors.zip\n",
            "Resolving dicodingacademy.blob.core.windows.net (dicodingacademy.blob.core.windows.net)... 52.239.197.36\n",
            "Connecting to dicodingacademy.blob.core.windows.net (dicodingacademy.blob.core.windows.net)|52.239.197.36|:443... connected.\n",
            "HTTP request sent, awaiting response... 200 OK\n",
            "Length: 322873683 (308M) [application/zip]\n",
            "Saving to: ‘/tmp/rockpaperscissors.zip’\n",
            "\n",
            "/tmp/rockpapersciss 100%[===================>] 307.92M  12.2MB/s    in 33s     \n",
            "\n",
            "2020-05-31 20:51:14 (9.27 MB/s) - ‘/tmp/rockpaperscissors.zip’ saved [322873683/322873683]\n",
            "\n"
          ],
          "name": "stdout"
        }
      ]
    },
    {
      "cell_type": "markdown",
      "metadata": {
        "id": "Gr3uMEToMHNV",
        "colab_type": "text"
      },
      "source": [
        "#Meng-ekstract data zip dan melihat isi foldernya"
      ]
    },
    {
      "cell_type": "code",
      "metadata": {
        "id": "B8_KpYYVqaRL",
        "colab_type": "code",
        "colab": {}
      },
      "source": [
        "# ekstrac data\n",
        "local_zip = '/tmp/rockpaperscissors.zip'\n",
        "zip_ref = zipfile.ZipFile(local_zip, 'r')\n",
        "zip_ref.extractall('/tmp')\n",
        "zip_ref.close()"
      ],
      "execution_count": 0,
      "outputs": []
    },
    {
      "cell_type": "code",
      "metadata": {
        "id": "9zs10KqdqhOt",
        "colab_type": "code",
        "outputId": "e762fede-6029-4081-8b15-0c45ee7a3e96",
        "colab": {
          "base_uri": "https://localhost:8080/",
          "height": 33
        }
      },
      "source": [
        "# melihat isi zip\n",
        "os.listdir('/tmp')"
      ],
      "execution_count": 41,
      "outputs": [
        {
          "output_type": "execute_result",
          "data": {
            "text/plain": [
              "['rockpaperscissors.zip', 'rockpaperscissors', '__MACOSX']"
            ]
          },
          "metadata": {
            "tags": []
          },
          "execution_count": 41
        }
      ]
    },
    {
      "cell_type": "code",
      "metadata": {
        "id": "TNm7-c_sqjGd",
        "colab_type": "code",
        "outputId": "0beaac90-9d36-48da-eb3e-e598bcffb982",
        "colab": {
          "base_uri": "https://localhost:8080/",
          "height": 134
        }
      },
      "source": [
        "# memilih datasets rockpaperscissors dan melihat isinya\n",
        "os.listdir('/tmp/rockpaperscissors')"
      ],
      "execution_count": 42,
      "outputs": [
        {
          "output_type": "execute_result",
          "data": {
            "text/plain": [
              "['rock',\n",
              " 'paper',\n",
              " 'scissors',\n",
              " 'rps-cv-images',\n",
              " 'README_rpc-cv-images.txt',\n",
              " 'rockpaperscissors',\n",
              " '__MACOSX']"
            ]
          },
          "metadata": {
            "tags": []
          },
          "execution_count": 42
        }
      ]
    },
    {
      "cell_type": "markdown",
      "metadata": {
        "id": "QjGyD2PLskke",
        "colab_type": "text"
      },
      "source": [
        "#Image Preprocessing"
      ]
    },
    {
      "cell_type": "code",
      "metadata": {
        "id": "1YIezENfqlby",
        "colab_type": "code",
        "outputId": "7987c511-ad73-4c68-aae8-66a5b90cff6a",
        "colab": {
          "base_uri": "https://localhost:8080/",
          "height": 33
        }
      },
      "source": [
        "# membuat data kasar\n",
        "data_dir = '/tmp/rockpaperscissors/rockpaperscissors/rps-cv-images'\n",
        "os.listdir(data_dir)"
      ],
      "execution_count": 43,
      "outputs": [
        {
          "output_type": "execute_result",
          "data": {
            "text/plain": [
              "['rock', 'paper', 'scissors', 'README_rpc-cv-images.txt']"
            ]
          },
          "metadata": {
            "tags": []
          },
          "execution_count": 43
        }
      ]
    },
    {
      "cell_type": "code",
      "metadata": {
        "id": "oaFcn9IUq6JD",
        "colab_type": "code",
        "outputId": "d4dff838-d9dc-4cc8-c974-6501158061a7",
        "colab": {
          "base_uri": "https://localhost:8080/",
          "height": 50
        }
      },
      "source": [
        "\n",
        "#augmentasi dan memisahkan data train dan validasi\n",
        "aug = ImageDataGenerator(\n",
        "    rescale=1./255,\n",
        "    horizontal_flip=True,\n",
        "    height_shift_range=.2,\n",
        "    vertical_flip = True,\n",
        "    validation_split=0.2\n",
        ")\n",
        "train_gen = aug.flow_from_directory(\n",
        "    data_dir,\n",
        "    target_size = (224,224), # dibuat 224 x 224 pixel\n",
        "    batch_size = 32,\n",
        "    class_mode = 'categorical',\n",
        "    shuffle=True,\n",
        "    subset='training'\n",
        ")\n",
        "val_gen = aug.flow_from_directory(\n",
        "    data_dir,\n",
        "    target_size=(224,224), # dibuat 224 x 224 pixel\n",
        "    batch_size=32,\n",
        "    class_mode='categorical',\n",
        "    shuffle=False,\n",
        "    subset='validation'\n",
        ")"
      ],
      "execution_count": 44,
      "outputs": [
        {
          "output_type": "stream",
          "text": [
            "Found 1751 images belonging to 3 classes.\n",
            "Found 437 images belonging to 3 classes.\n"
          ],
          "name": "stdout"
        }
      ]
    },
    {
      "cell_type": "markdown",
      "metadata": {
        "id": "a5q1F8ndM5mn",
        "colab_type": "text"
      },
      "source": [
        "# Membuat Model prediksi"
      ]
    },
    {
      "cell_type": "code",
      "metadata": {
        "id": "ml0UpLthtt-U",
        "colab_type": "code",
        "outputId": "30019cac-72ff-409e-b9b8-e31c30a2da41",
        "colab": {
          "base_uri": "https://localhost:8080/",
          "height": 318
        }
      },
      "source": [
        "model_base = MobileNet(weights='imagenet',\n",
        "                       include_top=False, \n",
        "                       input_shape=(224,224,3))\n",
        "model = Sequential()\n",
        "model.add(model_base)\n",
        "model.add(GlobalAveragePooling2D())\n",
        "model.add(Dropout(0,5))\n",
        "model.add(Dense(3, activation='softmax'))\n",
        "model.summary()"
      ],
      "execution_count": 45,
      "outputs": [
        {
          "output_type": "stream",
          "text": [
            "Downloading data from https://github.com/fchollet/deep-learning-models/releases/download/v0.6/mobilenet_1_0_224_tf_no_top.h5\n",
            "17227776/17225924 [==============================] - 1s 0us/step\n",
            "Model: \"sequential_1\"\n",
            "_________________________________________________________________\n",
            "Layer (type)                 Output Shape              Param #   \n",
            "=================================================================\n",
            "mobilenet_1.00_224 (Model)   (None, 7, 7, 1024)        3228864   \n",
            "_________________________________________________________________\n",
            "global_average_pooling2d_1 ( (None, 1024)              0         \n",
            "_________________________________________________________________\n",
            "dropout_1 (Dropout)          (None, 1024)              0         \n",
            "_________________________________________________________________\n",
            "dense_1 (Dense)              (None, 3)                 3075      \n",
            "=================================================================\n",
            "Total params: 3,231,939\n",
            "Trainable params: 3,210,051\n",
            "Non-trainable params: 21,888\n",
            "_________________________________________________________________\n"
          ],
          "name": "stdout"
        }
      ]
    },
    {
      "cell_type": "code",
      "metadata": {
        "id": "DhRHQnGHuaiY",
        "colab_type": "code",
        "outputId": "bdc45494-7678-4e45-d022-4bbc9585090d",
        "colab": {
          "base_uri": "https://localhost:8080/",
          "height": 104
        }
      },
      "source": [
        "# memanggil kembali model yang paling baik\n",
        "model_terbaik = './base.model'\n",
        "cekpoin = ModelCheckpoint(\n",
        "    model_terbaik,\n",
        "    monitor='val_loss',\n",
        "    verbose=1,\n",
        "    save_best_only=False,\n",
        "    period=1\n",
        ")\n",
        "stoping = EarlyStopping(\n",
        "    monitor = 'val_loss',\n",
        "    min_delta=0.001,\n",
        "    patience=10,\n",
        "    verbose=1,\n",
        "    mode='auto'\n",
        ")\n",
        "tb = TensorBoard(\n",
        "    log_dir = '.logs',\n",
        "    histogram_freq = 0,\n",
        "    batch_size=16,\n",
        "    write_graph=True,\n",
        "    write_grads=True,\n",
        "    write_images=False\n",
        ")\n",
        "csvlog = CSVLogger(\n",
        "    filename='training_csv.log',\n",
        "    separator = \",\",\n",
        "    append=False\n",
        ")\n",
        "pengurangan = ReduceLROnPlateau(\n",
        "    monitor='val_loss',\n",
        "    factor=0.5,\n",
        "    patience=40,\n",
        "    verbose=1,\n",
        "    mode='auto',\n",
        "    cooldown=1\n",
        ")\n",
        "callbacks = [cekpoin,tb,csvlog,pengurangan]"
      ],
      "execution_count": 46,
      "outputs": [
        {
          "output_type": "stream",
          "text": [
            "/usr/local/lib/python3.6/dist-packages/keras/callbacks/tensorboard_v2.py:92: UserWarning: The TensorBoard callback `batch_size` argument (for histogram computation) is deprecated with TensorFlow 2.0. It will be ignored.\n",
            "  warnings.warn('The TensorBoard callback `batch_size` argument '\n",
            "/usr/local/lib/python3.6/dist-packages/keras/callbacks/tensorboard_v2.py:97: UserWarning: The TensorBoard callback does not support gradients display when using TensorFlow 2.0. The `write_grads` argument is ignored.\n",
            "  warnings.warn('The TensorBoard callback does not support '\n"
          ],
          "name": "stderr"
        }
      ]
    },
    {
      "cell_type": "markdown",
      "metadata": {
        "id": "PxXTmU63NKmq",
        "colab_type": "text"
      },
      "source": [
        "# Training Data dengan Model terbaik"
      ]
    },
    {
      "cell_type": "code",
      "metadata": {
        "id": "NMg9cGnBuvPU",
        "colab_type": "code",
        "outputId": "ea1b0fa8-9d12-41dc-e4ab-d2600521c598",
        "colab": {
          "base_uri": "https://localhost:8080/",
          "height": 351
        }
      },
      "source": [
        "model.compile(\n",
        "    loss='hinge',\n",
        "    optimizer='SGD', # menggunakan optimizer SGD\n",
        "    metrics=['accuracy']\n",
        ")\n",
        "\n",
        "gambar = model.fit_generator(\n",
        "    train_gen, \n",
        "    steps_per_epoch = 26, #train dilakukan 26 kali\n",
        "    validation_data = val_gen,#menampilkan score validasi\n",
        "    validation_steps = 26, #validasi dilakukan 26 kali\n",
        "    epochs = 5, # dibuat 5 kali\n",
        "    verbose = 1, \n",
        "    callbacks=callbacks\n",
        ")"
      ],
      "execution_count": 47,
      "outputs": [
        {
          "output_type": "stream",
          "text": [
            "Epoch 1/5\n",
            "26/26 [==============================] - 275s 11s/step - loss: 0.9864 - accuracy: 0.5974 - val_loss: 1.1692 - val_accuracy: 0.4689\n",
            "\n",
            "Epoch 00001: saving model to ./base.model\n",
            "Epoch 2/5\n",
            "26/26 [==============================] - 261s 10s/step - loss: 0.7618 - accuracy: 0.9599 - val_loss: 1.0175 - val_accuracy: 0.8383\n",
            "\n",
            "Epoch 00002: saving model to ./base.model\n",
            "Epoch 3/5\n",
            "26/26 [==============================] - 277s 11s/step - loss: 0.7190 - accuracy: 0.9748 - val_loss: 0.7742 - val_accuracy: 0.9395\n",
            "\n",
            "Epoch 00003: saving model to ./base.model\n",
            "Epoch 4/5\n",
            "26/26 [==============================] - 271s 10s/step - loss: 0.6947 - accuracy: 0.9891 - val_loss: 0.7269 - val_accuracy: 0.9704\n",
            "\n",
            "Epoch 00004: saving model to ./base.model\n",
            "Epoch 5/5\n",
            "26/26 [==============================] - 280s 11s/step - loss: 0.6917 - accuracy: 0.9868 - val_loss: 0.6835 - val_accuracy: 0.9877\n",
            "\n",
            "Epoch 00005: saving model to ./base.model\n"
          ],
          "name": "stdout"
        }
      ]
    },
    {
      "cell_type": "markdown",
      "metadata": {
        "id": "-3UtTQ95DsfE",
        "colab_type": "text"
      },
      "source": [
        "# Membuat Fungsi for training visualization"
      ]
    },
    {
      "cell_type": "code",
      "metadata": {
        "id": "Cx9meSY10t-0",
        "colab_type": "code",
        "colab": {}
      },
      "source": [
        "def ngeplot(history):\n",
        "  fig, ax = plt.subplots(1,2, figsize=(15,5))\n",
        "  ax[0].set_title('loss')\n",
        "  ax[0].plot(history.epoch, history.history['loss'], label='Train loss')\n",
        "  ax[0].plot(history.epoch, history.history['val_loss'], label='Validation loss')\n",
        "  ax[1].set_title('acc')\n",
        "  ax[1].plot(history.epoch, history.history[\"accuracy\"], label=\"Train acc\")\n",
        "  ax[1].plot(history.epoch, history.history['val_accuracy'], label='Validation acc')\n",
        "  ax[0].legend()\n",
        "  ax[1].legend()"
      ],
      "execution_count": 0,
      "outputs": []
    },
    {
      "cell_type": "markdown",
      "metadata": {
        "id": "XbCTW0eCDuhB",
        "colab_type": "text"
      },
      "source": [
        "# Visualisasi Tasil training dan validasi"
      ]
    },
    {
      "cell_type": "code",
      "metadata": {
        "id": "gASKjmLnxuXR",
        "colab_type": "code",
        "outputId": "693297dc-9f9a-43de-812b-5be11b551777",
        "colab": {
          "base_uri": "https://localhost:8080/",
          "height": 386
        }
      },
      "source": [
        "ngeplot(gambar)\n",
        "model.load_weights(model_terbaik)\n",
        "model_score = model.evaluate_generator(val_gen, steps = 20)\n",
        "print(\"Model Test Loss:\",model_score[0])\n",
        "print(\"Model Test Accuracy:\", model_score[1])\n",
        "\n",
        "model_json = model.to_json()\n",
        "with open(\"model.json\",\"w\") as json_file:\n",
        "  json_file.write(model_json)\n",
        "\n",
        "model.save('rockpaperscissor.h5')\n",
        "print(\"Weights Saved\")"
      ],
      "execution_count": 50,
      "outputs": [
        {
          "output_type": "stream",
          "text": [
            "Model Test Loss: 0.7057971954345703\n",
            "Model Test Accuracy: 0.9904610514640808\n",
            "Weights Saved\n"
          ],
          "name": "stdout"
        },
        {
          "output_type": "display_data",
          "data": {
            "image/png": "[encoded data removed]",
            "text/plain": [
              "<Figure size 1080x360 with 2 Axes>"
            ]
          },
          "metadata": {
            "tags": [],
            "needs_background": "light"
          }
        }
      ]
    },
    {
      "cell_type": "markdown",
      "metadata": {
        "id": "1PACMtPS31Lv",
        "colab_type": "text"
      },
      "source": [
        "Dari plot di atas menunjukkan bahwa:\n",
        "1. pada graphik line yang berjudul loss menunjukkan bahwa kehilangan nilainya jua sedikit sekali.\n",
        "2. pada grafik line yang berjudul acc, menunjukkan bahwa train accurasi dan validation accurasinya akurat. karena antara train dan validation tidak jomplang nilainya. Namun masih sama-sama antara 0.99 hampir menjadi 1.\n",
        "\n",
        "sehingga dikatakan model ini bisa dijadikan untuk prediksi gunting, batu, kertas. karena tidak overfitting atau underfitting"
      ]
    },
    {
      "cell_type": "markdown",
      "metadata": {
        "id": "vbrRmhz5OGy0",
        "colab_type": "text"
      },
      "source": [
        "# Memulai Prediksi"
      ]
    },
    {
      "cell_type": "code",
      "metadata": {
        "id": "mpsDNI9d4Uux",
        "colab_type": "code",
        "outputId": "4f238fd2-821b-4f64-c5cb-61e19dcef37b",
        "colab": {
          "resources": {
            "http://localhost:8080/nbextensions/google.colab/files.js": {
              "data": "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",
              "ok": true,
              "headers": [
                [
                  "content-type",
                  "application/javascript"
                ]
              ],
              "status": 200,
              "status_text": ""
            }
          },
          "base_uri": "https://localhost:8080/",
          "height": 360
        }
      },
      "source": [
        "from google.colab import files\n",
        "from keras.preprocessing import image\n",
        "import matplotlib.image as mpimg\n",
        "from keras.models import load_model\n",
        "upload = files.upload()\n",
        "for fn in upload.keys():\n",
        "  #predicting images\n",
        "  path = fn\n",
        "  img = image.load_img(path, target_size = (224,224))\n",
        "  imgplot = plt.imshow(img)\n",
        "  x = image.img_to_array(img)\n",
        "  x = np.expand_dims(x, axis = 0)\n",
        "model = load_model('rockpaperscissor.h5')\n",
        "images = np.vstack([x])\n",
        "pred = model.predict_classes(images,batch_size=10)\n",
        "\n",
        "print(pred)\n",
        "if pred == 1:\n",
        "  print('Gunting')\n",
        "else:\n",
        "  print('Non')"
      ],
      "execution_count": 52,
      "outputs": [
        {
          "output_type": "display_data",
          "data": {
            "text/html": [
              "\n",
              "     <input type=\"file\" id=\"files-ce36e316-c1c7-436d-b756-bfac08b58131\" name=\"files[]\" multiple disabled />\n",
              "     <output id=\"result-ce36e316-c1c7-436d-b756-bfac08b58131\">\n",
              "      Upload widget is only available when the cell has been executed in the\n",
              "      current browser session. Please rerun this cell to enable.\n",
              "      </output>\n",
              "      <script src=\"/nbextensions/google.colab/files.js\"></script> "
            ],
            "text/plain": [
              "<IPython.core.display.HTML object>"
            ]
          },
          "metadata": {
            "tags": []
          }
        },
        {
          "output_type": "stream",
          "text": [
            "Saving gunting.jpeg to gunting (1).jpeg\n",
            "[1]\n",
            "Gunting\n"
          ],
          "name": "stdout"
        },
        {
          "output_type": "display_data",
          "data": {
            "image/png": "[encoded data removed]",
            "text/plain": [
              "<Figure size 432x288 with 1 Axes>"
            ]
          },
          "metadata": {
            "tags": [],
            "needs_background": "light"
          }
        }
      ]
    },
    {
      "cell_type": "code",
      "metadata": {
        "id": "ajHByotR0hVH",
        "colab_type": "code",
        "colab": {}
      },
      "source": [
        ""
      ],
      "execution_count": 0,
      "outputs": []
    }
  ]
}